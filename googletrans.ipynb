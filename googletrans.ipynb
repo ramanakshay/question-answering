{
  "nbformat": 4,
  "nbformat_minor": 0,
  "metadata": {
    "colab": {
      "name": "googletrans.ipynb",
      "provenance": []
    },
    "kernelspec": {
      "name": "python3",
      "display_name": "Python 3"
    },
    "language_info": {
      "name": "python"
    }
  },
  "cells": [
    {
      "cell_type": "code",
      "metadata": {
        "colab": {
          "base_uri": "https://localhost:8080/"
        },
        "id": "MALAk5g2RDfP",
        "outputId": "6a974fc6-1b53-4bac-90e4-d6b09df00001"
      },
      "source": [
        "!pip install googletrans==4.0.0-rc1"
      ],
      "execution_count": null,
      "outputs": [
        {
          "output_type": "stream",
          "name": "stdout",
          "text": [
            "Collecting googletrans==4.0.0-rc1\n",
            "  Downloading googletrans-4.0.0rc1.tar.gz (20 kB)\n",
            "Collecting httpx==0.13.3\n",
            "  Downloading httpx-0.13.3-py3-none-any.whl (55 kB)\n",
            "\u001b[K     |████████████████████████████████| 55 kB 3.2 MB/s \n",
            "\u001b[?25hRequirement already satisfied: idna==2.* in /usr/local/lib/python3.7/dist-packages (from httpx==0.13.3->googletrans==4.0.0-rc1) (2.10)\n",
            "Collecting hstspreload\n",
            "  Downloading hstspreload-2021.11.1-py3-none-any.whl (1.3 MB)\n",
            "\u001b[K     |████████████████████████████████| 1.3 MB 62.9 MB/s \n",
            "\u001b[?25hCollecting sniffio\n",
            "  Downloading sniffio-1.2.0-py3-none-any.whl (10 kB)\n",
            "Requirement already satisfied: certifi in /usr/local/lib/python3.7/dist-packages (from httpx==0.13.3->googletrans==4.0.0-rc1) (2021.10.8)\n",
            "Collecting rfc3986<2,>=1.3\n",
            "  Downloading rfc3986-1.5.0-py2.py3-none-any.whl (31 kB)\n",
            "Collecting httpcore==0.9.*\n",
            "  Downloading httpcore-0.9.1-py3-none-any.whl (42 kB)\n",
            "\u001b[K     |████████████████████████████████| 42 kB 1.2 MB/s \n",
            "\u001b[?25hRequirement already satisfied: chardet==3.* in /usr/local/lib/python3.7/dist-packages (from httpx==0.13.3->googletrans==4.0.0-rc1) (3.0.4)\n",
            "Collecting h2==3.*\n",
            "  Downloading h2-3.2.0-py2.py3-none-any.whl (65 kB)\n",
            "\u001b[K     |████████████████████████████████| 65 kB 3.2 MB/s \n",
            "\u001b[?25hCollecting h11<0.10,>=0.8\n",
            "  Downloading h11-0.9.0-py2.py3-none-any.whl (53 kB)\n",
            "\u001b[K     |████████████████████████████████| 53 kB 2.1 MB/s \n",
            "\u001b[?25hCollecting hpack<4,>=3.0\n",
            "  Downloading hpack-3.0.0-py2.py3-none-any.whl (38 kB)\n",
            "Collecting hyperframe<6,>=5.2.0\n",
            "  Downloading hyperframe-5.2.0-py2.py3-none-any.whl (12 kB)\n",
            "Building wheels for collected packages: googletrans\n",
            "  Building wheel for googletrans (setup.py) ... \u001b[?25l\u001b[?25hdone\n",
            "  Created wheel for googletrans: filename=googletrans-4.0.0rc1-py3-none-any.whl size=17415 sha256=f87d1af3ba743f7a0adf950a994cb9f70bf1d6cac540e2f753961c51ba013b96\n",
            "  Stored in directory: /root/.cache/pip/wheels/43/34/00/4fe71786ea6d12314b29037620c36d857e5d104ac2748bf82a\n",
            "Successfully built googletrans\n",
            "Installing collected packages: hyperframe, hpack, sniffio, h2, h11, rfc3986, httpcore, hstspreload, httpx, googletrans\n",
            "Successfully installed googletrans-4.0.0rc1 h11-0.9.0 h2-3.2.0 hpack-3.0.0 hstspreload-2021.11.1 httpcore-0.9.1 httpx-0.13.3 hyperframe-5.2.0 rfc3986-1.5.0 sniffio-1.2.0\n"
          ]
        }
      ]
    },
    {
      "cell_type": "code",
      "metadata": {
        "id": "Z5xCGpIWRHpf"
      },
      "source": [
        "from googletrans import Translator\n",
        "translator = Translator()\n",
        "translation = translator.translate(\"Der Himmel ist blau und ich mag Bananen\", dest='en')"
      ],
      "execution_count": null,
      "outputs": []
    },
    {
      "cell_type": "code",
      "metadata": {
        "colab": {
          "base_uri": "https://localhost:8080/"
        },
        "id": "REXDfCOeRU_3",
        "outputId": "ed8d73f3-b6ad-46a2-d4c7-47f7debeab61"
      },
      "source": [
        "print(translation.text)"
      ],
      "execution_count": null,
      "outputs": [
        {
          "output_type": "stream",
          "name": "stdout",
          "text": [
            "The sky is blue and I like bananas\n"
          ]
        }
      ]
    },
    {
      "cell_type": "code",
      "metadata": {
        "id": "25bJjqghRdaF"
      },
      "source": [
        "from googletrans import Translator\n",
        "languages = ['fr','de','zh-cn','es','ja']\n",
        "def generate_questions(question):\n",
        "  variants = [question]\n",
        "  translator = Translator()\n",
        "  for l in languages:\n",
        "    print(question,end=\" => \")\n",
        "    en_to_l = translator.translate(question, dest=l)\n",
        "    print(en_to_l.text)\n",
        "    print(en_to_l.text,end=\" => \")\n",
        "    l_to_en = translator.translate(en_to_l.text, dest='en')\n",
        "    print(l_to_en.text)\n",
        "    print()\n",
        "    translated = l_to_en.text\n",
        "    if translated not in variants:\n",
        "      variants.append(translated)\n",
        "  return variants"
      ],
      "execution_count": null,
      "outputs": []
    },
    {
      "cell_type": "code",
      "metadata": {
        "colab": {
          "base_uri": "https://localhost:8080/"
        },
        "id": "RH1mKJcYTqgf",
        "outputId": "2a5a5105-eed7-425e-90fc-ef569afa22cd"
      },
      "source": [
        "generate_questions('How many strings does a guitar have?')"
      ],
      "execution_count": null,
      "outputs": [
        {
          "output_type": "stream",
          "name": "stdout",
          "text": [
            "How many strings does a guitar have? => Combien de cordes une guitare a-t-elle?\n",
            "Combien de cordes une guitare a-t-elle? => How many strings does a guitar have?\n",
            "\n",
            "How many strings does a guitar have? => Wie viele Saiten hat eine Gitarre?\n",
            "Wie viele Saiten hat eine Gitarre? => How many strings has a guitar?\n",
            "\n",
            "How many strings does a guitar have? => 吉他有多少个字符串？\n",
            "吉他有多少个字符串？ => How many strings are guitar?\n",
            "\n",
            "How many strings does a guitar have? => ¿Cuántas cuerdas tiene una guitarra?\n",
            "¿Cuántas cuerdas tiene una guitarra? => How many ropes does a guitar have?\n",
            "\n",
            "How many strings does a guitar have? => ギターは何回弦を持っていますか？\n",
            "ギターは何回弦を持っていますか？ => How many guitars do you have?\n",
            "\n"
          ]
        },
        {
          "output_type": "execute_result",
          "data": {
            "text/plain": [
              "['How many strings does a guitar have?',\n",
              " 'How many strings has a guitar?',\n",
              " 'How many strings are guitar?',\n",
              " 'How many ropes does a guitar have?',\n",
              " 'How many guitars do you have?']"
            ]
          },
          "metadata": {},
          "execution_count": 8
        }
      ]
    },
    {
      "cell_type": "code",
      "metadata": {
        "colab": {
          "base_uri": "https://localhost:8080/"
        },
        "id": "abVctnACSfUc",
        "outputId": "a63e32f0-8242-4355-c13e-d155ac95eb84"
      },
      "source": [
        "import googletrans\n",
        "googletrans.LANGUAGES"
      ],
      "execution_count": null,
      "outputs": [
        {
          "output_type": "execute_result",
          "data": {
            "text/plain": [
              "{'af': 'afrikaans',\n",
              " 'am': 'amharic',\n",
              " 'ar': 'arabic',\n",
              " 'az': 'azerbaijani',\n",
              " 'be': 'belarusian',\n",
              " 'bg': 'bulgarian',\n",
              " 'bn': 'bengali',\n",
              " 'bs': 'bosnian',\n",
              " 'ca': 'catalan',\n",
              " 'ceb': 'cebuano',\n",
              " 'co': 'corsican',\n",
              " 'cs': 'czech',\n",
              " 'cy': 'welsh',\n",
              " 'da': 'danish',\n",
              " 'de': 'german',\n",
              " 'el': 'greek',\n",
              " 'en': 'english',\n",
              " 'eo': 'esperanto',\n",
              " 'es': 'spanish',\n",
              " 'et': 'estonian',\n",
              " 'eu': 'basque',\n",
              " 'fa': 'persian',\n",
              " 'fi': 'finnish',\n",
              " 'fr': 'french',\n",
              " 'fy': 'frisian',\n",
              " 'ga': 'irish',\n",
              " 'gd': 'scots gaelic',\n",
              " 'gl': 'galician',\n",
              " 'gu': 'gujarati',\n",
              " 'ha': 'hausa',\n",
              " 'haw': 'hawaiian',\n",
              " 'he': 'hebrew',\n",
              " 'hi': 'hindi',\n",
              " 'hmn': 'hmong',\n",
              " 'hr': 'croatian',\n",
              " 'ht': 'haitian creole',\n",
              " 'hu': 'hungarian',\n",
              " 'hy': 'armenian',\n",
              " 'id': 'indonesian',\n",
              " 'ig': 'igbo',\n",
              " 'is': 'icelandic',\n",
              " 'it': 'italian',\n",
              " 'iw': 'hebrew',\n",
              " 'ja': 'japanese',\n",
              " 'jw': 'javanese',\n",
              " 'ka': 'georgian',\n",
              " 'kk': 'kazakh',\n",
              " 'km': 'khmer',\n",
              " 'kn': 'kannada',\n",
              " 'ko': 'korean',\n",
              " 'ku': 'kurdish (kurmanji)',\n",
              " 'ky': 'kyrgyz',\n",
              " 'la': 'latin',\n",
              " 'lb': 'luxembourgish',\n",
              " 'lo': 'lao',\n",
              " 'lt': 'lithuanian',\n",
              " 'lv': 'latvian',\n",
              " 'mg': 'malagasy',\n",
              " 'mi': 'maori',\n",
              " 'mk': 'macedonian',\n",
              " 'ml': 'malayalam',\n",
              " 'mn': 'mongolian',\n",
              " 'mr': 'marathi',\n",
              " 'ms': 'malay',\n",
              " 'mt': 'maltese',\n",
              " 'my': 'myanmar (burmese)',\n",
              " 'ne': 'nepali',\n",
              " 'nl': 'dutch',\n",
              " 'no': 'norwegian',\n",
              " 'ny': 'chichewa',\n",
              " 'or': 'odia',\n",
              " 'pa': 'punjabi',\n",
              " 'pl': 'polish',\n",
              " 'ps': 'pashto',\n",
              " 'pt': 'portuguese',\n",
              " 'ro': 'romanian',\n",
              " 'ru': 'russian',\n",
              " 'sd': 'sindhi',\n",
              " 'si': 'sinhala',\n",
              " 'sk': 'slovak',\n",
              " 'sl': 'slovenian',\n",
              " 'sm': 'samoan',\n",
              " 'sn': 'shona',\n",
              " 'so': 'somali',\n",
              " 'sq': 'albanian',\n",
              " 'sr': 'serbian',\n",
              " 'st': 'sesotho',\n",
              " 'su': 'sundanese',\n",
              " 'sv': 'swedish',\n",
              " 'sw': 'swahili',\n",
              " 'ta': 'tamil',\n",
              " 'te': 'telugu',\n",
              " 'tg': 'tajik',\n",
              " 'th': 'thai',\n",
              " 'tl': 'filipino',\n",
              " 'tr': 'turkish',\n",
              " 'ug': 'uyghur',\n",
              " 'uk': 'ukrainian',\n",
              " 'ur': 'urdu',\n",
              " 'uz': 'uzbek',\n",
              " 'vi': 'vietnamese',\n",
              " 'xh': 'xhosa',\n",
              " 'yi': 'yiddish',\n",
              " 'yo': 'yoruba',\n",
              " 'zh-cn': 'chinese (simplified)',\n",
              " 'zh-tw': 'chinese (traditional)',\n",
              " 'zu': 'zulu'}"
            ]
          },
          "metadata": {},
          "execution_count": 8
        }
      ]
    }
  ]
}